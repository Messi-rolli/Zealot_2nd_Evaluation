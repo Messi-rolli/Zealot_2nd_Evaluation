{
 "cells": [
  {
   "cell_type": "code",
   "execution_count": null,
   "id": "fcd1ac0d",
   "metadata": {},
   "outputs": [],
   "source": [
    "'''Phone no: +14152339279\n",
    "Recovery JWZ4B68Q2AJ37GXSTZZSR2HF\n",
    "Account Ssid : AC80e64283bc065239314e6e080ee7c2d7\n",
    "Authentication token: 15f2f0a7b3cd46cf1be738d32a1f5814'''"
   ]
  },
  {
   "cell_type": "code",
   "execution_count": 8,
   "id": "14eaa5cf",
   "metadata": {},
   "outputs": [],
   "source": [
    "from twilio.rest import Client"
   ]
  },
  {
   "cell_type": "code",
   "execution_count": 9,
   "id": "69bd6761",
   "metadata": {},
   "outputs": [],
   "source": [
    "\n",
    "account_ssid='AC80e64283bc065239314e6e080ee7c2d7'\n",
    "auth_token='15f2f0a7b3cd46cf1be738d32a1f5814'\n",
    "client=Client(account_ssid,auth_token)\n",
    "message=client.messages\\\n",
    ".create(\n",
    "    body=' Suspicious activities are detected please contact the driver ',\n",
    "    from_='+14152339279',\n",
    "    to='+919380348470'\n",
    ")"
   ]
  },
  {
   "cell_type": "code",
   "execution_count": null,
   "id": "d1c228b2",
   "metadata": {},
   "outputs": [],
   "source": []
  }
 ],
 "metadata": {
  "kernelspec": {
   "display_name": "Python 3 (ipykernel)",
   "language": "python",
   "name": "python3"
  },
  "language_info": {
   "codemirror_mode": {
    "name": "ipython",
    "version": 3
   },
   "file_extension": ".py",
   "mimetype": "text/x-python",
   "name": "python",
   "nbconvert_exporter": "python",
   "pygments_lexer": "ipython3",
   "version": "3.11.5"
  }
 },
 "nbformat": 4,
 "nbformat_minor": 5
}
